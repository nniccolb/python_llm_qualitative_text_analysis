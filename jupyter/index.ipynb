{
 "cells": [
  {
   "cell_type": "code",
   "execution_count": 2,
   "id": "551b29fc",
   "metadata": {},
   "outputs": [
    {
     "name": "stdout",
     "output_type": "stream",
     "text": [
      "Pixiedust database opened successfully\n"
     ]
    },
    {
     "data": {
      "text/html": [
       "\n",
       "        <div style=\"margin:10px\">\n",
       "            <a href=\"https://github.com/ibm-watson-data-lab/pixiedust\" target=\"_new\">\n",
       "                <img src=\"https://github.com/ibm-watson-data-lab/pixiedust/raw/master/docs/_static/pd_icon32.png\" style=\"float:left;margin-right:10px\"/>\n",
       "            </a>\n",
       "            <span>Pixiedust version 1.1.19</span>\n",
       "        </div>\n",
       "        "
      ],
      "text/plain": [
       "<IPython.core.display.HTML object>"
      ]
     },
     "metadata": {},
     "output_type": "display_data"
    }
   ],
   "source": [
    "import os\n",
    "import re\n"
   ]
  },
  {
   "cell_type": "code",
   "execution_count": 48,
   "id": "9755dc51",
   "metadata": {},
   "outputs": [],
   "source": [
    "def preProcess(text):\n",
    "    t = text.replace(\"GBT\", \"GPT\")\n",
    "    t = t.split(\"### Closing words\", 1)[0]\n",
    "    \n",
    "    lines = t.split('\\n')\n",
    "    non_empty_lines = [line.strip() for line in lines if line.strip()]\n",
    "    t= '\\n'.join(non_empty_lines)\n",
    "    return t"
   ]
  },
  {
   "cell_type": "code",
   "execution_count": 49,
   "id": "1fab9237",
   "metadata": {},
   "outputs": [],
   "source": [
    "\n",
    "folder_path = 'Data/Interviews'\n",
    "transcripts = {}\n",
    "for filename in os.listdir(folder_path):\n",
    "        with open(os.path.join(folder_path, filename), 'r') as file:\n",
    "            file_content = preProcess(file.read())\n",
    "            sections = re.split(r'#+', file_content)\n",
    "            transcripts[filename] = sections\n",
    "            \n",
    "\n",
    "            "
   ]
  },
  {
   "cell_type": "code",
   "execution_count": 50,
   "id": "b578761c",
   "metadata": {},
   "outputs": [
    {
     "name": "stdout",
     "output_type": "stream",
     "text": [
      "- Which platforms do you use?\n",
      "- Instagram (most), TikTok (most), Youtube, Snapchat, Pinterest\n",
      "- What type of content do you consume?\n",
      "- Multicultural because of my background, fashion, food/cooking, visual arts like painting and trend-based arts like rug making. I also like content creators that make content around fashion and arts.\n",
      "- How much time do you spend across these different platforms? → Do you feel it is too much, what is overwhelming in it?\n",
      "- Instagram is definitely more for work, finding garments I can source from different accounts, designers and artists that can help me in my work.\n",
      "- I also follow some celebrities on Instagram\n",
      "- TikTok is always more for entertainment\n",
      "- NOTE! No negative emotions about screen time or using her phone too much\n",
      "\n"
     ]
    }
   ],
   "source": [
    "print(transcripts[\"1.txt\"][0])"
   ]
  },
  {
   "cell_type": "code",
   "execution_count": 51,
   "id": "7571e2b9",
   "metadata": {},
   "outputs": [
    {
     "name": "stdout",
     "output_type": "stream",
     "text": [
      "######## SECTION\n",
      "- Can you take me through the last time you tried to find information on a specific topic, like which restaurant to go to?\n",
      "- Tiktok, I use tiktok for everything, there is so much people talking about things on Tiktok. If I find cure coffee shop on Tiktok I’ll go to Google then to find specific information about it. Then I also use  chat-GBP and Google.\n",
      "- What type of role does social media play in your life?\n",
      "- Mainly use Tiktok for everything, mainly first that. Learn so much more and learning is easier.\n",
      "- Which platforms do you use?\n",
      "- Instagram stories vs. feed: Do not use Instagram, due to ads, picture and then 5 ads, it is not worthwhile. Stories over everything there is, since feed is full of ads. Pinterest I use for almost everything, outfits and furniture. Bereal sometimes, Snapchat is then for communication. VSCO: Uses to post with lower barrier than Instagram, Instagram is not for random stuff. More of camera roll, it is more private in a way since just less people know VSCO.\n",
      "- What type of content do you consume?\n",
      "- Fashion, interior design, making clay things, reddit stories.\n",
      "- How much time do you spend across these platforms?\n",
      "- Do you save content? If yes, how/where?\n",
      "- Tiktok not as much, random stuff, sometimes if I want to show it to someone, outfit videos I do. Pinterest pin much more. 50 different folders on Pinterest.\n",
      "- Do you come back to the things you have saved?\n",
      "- What is the journey: what do you like about it, what do you don’t like about it?\n",
      "- How often?\n",
      "- How do you feel about customized feeds, like TikTok for you or Instagram explore pages?\n",
      "- Instagram for you page is just dogs. TikTok is just everything I like and dislike, I just watch it all. I do not like to put things I am interested in when going to somewhere, then it is just that and I get bored. I do not like filling those things, so I just like to scroll in a way that it knows what I like but also what I should see. I do not like doing choosing, especially when I can choose only 3 different themes.\n",
      "- What do you think about new platforms like Threads by Instagram?\n",
      "- I would not download, it is like Twitter so what is the point, why add the threads. BeReal was cool since it is something new. Instagram is doing what Snapchat is doing, but I think those apps should just have their own thing and stick with that. Does not use Twitter.\n",
      "- Do you feel that you are missing out if you are not on Twitter?\n",
      "- No, I dowloaded it but then it just was recommending Trump to me and Joe Biden, I am not interested in that. And learning how to use new platform is the pain. I will just stick with TikTok.\n",
      "- Any issues in using TikTok or is there something that you are using too much time on these platforms ?\n",
      "- I could use TikTok less, but also I feel like I will focus on that and if I do have to do something else in life I will do it. Does not feel that it is in any way distraction. Does not see problem in it.\n",
      "- Do you use Youtube?\n",
      "- I do not, I can not focus that long I do not have energy for that. I will use that if I need help with something such as sewing.\n",
      "- Is there any platform you would not want to see content from ?\n",
      "- Maybe VSCO,  but not really. Even if I do not use Twitter, I would like to use it in this tool since it might be relevant.\n",
      "- How do you feel about using several platforms ?\n",
      "- I have all my notification off. But there is not anything else I do not like about them.\n",
      "\n",
      "######## SECTION\n",
      " Zoom in: Solution questions\n",
      "“*To try to solve issues related to this, we are building a content discovery tool.”*\n",
      "- How do you imagine a tool like this would work and help you to discover content you are interested in?\n",
      "- I feel like something that would have videos, pictures etc. different formats, not mixed together but in a way that you could choose which ones to look at. Hard question. Separate videos, photos, written text, more easy tool to navigate.\n",
      "*Prototypes*: “*These prototypes are **really early** concepts and we are looking to hear constructive comments. Just openly say all your thoughts out loud.”*\n",
      "**Prototype: 1. Individual: On the blue you can tap on things: For example if you would be interested in wellness tap on wellness. We need to explain here what is it about.**\n",
      "- What made you tap on that post?\n",
      "- First clicked on the format and then source. People do not tap on content and do not tap on “Conagh Kathleen on Youtube” for example (source). Do not focus here on the content, but just what all does this prototype contain.\n",
      "- It is really fun that you can filter. Note: people can concentrate only on certain level of “features” we have too much.\n",
      "- What makes you think its going to be worth the tap / relevant for you / trust the content?\n",
      "- I would trust anything: love that you can choose where you can see things from and what to see.  Very pleasing to me. Gravitate towards colors, visually, than the captions and text. People need to see what it is before clicking on it if it is relevant or not to them. For example on TikTok you watch and see the video to tell if it is interesting.\n",
      "- What was the last time you used filters to find something online?\n",
      "- Put in search “summer outfit”. Does not filter in social media. Uses social media on shopping and then filter in apartment looking.\n",
      "- What did you like about that experience in our product?\n",
      "- 100%, so many and then it is overwhelming if I do not have filters.\n",
      "- What did you dislike about that experience?\n",
      "- Too many filters, zero results. But nothing bad about, it helps, but lets not have too many filters. Positive feelings about filters.\n",
      "- Another feature is following topics?\n",
      "- I do not feel I do that now, but some people do.\n",
      "- Would you be interested in savings?\n",
      "- Yes absolutely, now if I save something on Instagram and Pinterest they are separately. Now if there is one place to save, it would be great, not to switch between apps.\n",
      "**Prototype: 2. Perspectives: Here you can see all the post for someone: Allis first approach that it is saved content, not creators. It can be a bit overwhelming, since first we went through 1. prototype, which is all about filtering and then saving. And then when we go to 2. it seems that these are the same saving. But they are that plus then creators posts and their “profiles”, do we have too many features here for user to understand?**\n",
      "Here we told that in 1. proto you follow themes and here you can follow people.\n",
      "- What makes you follow a person?\n",
      "- I do not follow that many people and I do not approach it like that. I go content first, following is not something they do often.\n",
      "- What makes you unfollow a person?\n",
      "- Same content all the time, 5 years ago I liked their content, but preferences have changed or they say something I do not agree with.\n",
      "- Have you had an experience where you wished you could only follow part of the person?\n",
      "- In a way yes, if they have videos of fashion or then just them talking. I have never thought about that before.\n",
      "- Saving things\n",
      "- Keeping my own things private, what I have saved, I want that. TikTok has private savings, I really like that.\n",
      "- Do you express yourself on social media? If so, how?\n",
      "- Share a lot on Tiktok, struggles and stuff also. Snapchat is private. Could we here talk about digital identity part? Not only picture of your life.\n",
      "- Do you share content in closed communities, friends, meaning send interesting reads / listens to someone?\n",
      "- Sometimes, I feel like everyone knows what I listen to. On Tiktok I send something, for example manifesting videos. But I think that people know what I would want to curate.\n",
      "- How do you feel about having your saved posts in one page? Privately, for your friends or publicly?\n",
      "- Private for me and if I want to share a video I can, I would have them for myself and look at it later on.\n",
      "- Did not tap on “posting” on the proto, probably would only scroll and not post things. I feel that everything I look at is pretty basic and if there is something I am very passionate about I would share. Do you do it now ? I do not. Previous behavior tells us a lot! Curation is not something she would instantly at least do.\n",
      "\n",
      "######## SECTION\n",
      " Zoom out\n",
      "- How did these two versions make you feel?\n",
      "- First one is very simple, second was too much to understand. Second option is more exciting, but it was too much to process. Much more fun to use since there is more things to do than just “look up stuff”. Need social aspect to it, does not like just the individual use. VCSO does not have interaction, commenting etc. and that bothers. Therefore, on second proto when you had posts that other people curate, it becomes more interesting and better.\n",
      "- What, if anything, sounds valuable about this? This question is something that was not understood.\n",
      "- Just to use time, ideas and inspiration. Forgot the question. Filter things that I am interested in. Youtube is millenial content.\n",
      "- What, if anything, doesn’t sound valuable about this?\n",
      "- People seeing what I saved. Even if I do not like it, other people could.\n",
      "- Who could this be good for?\n",
      "- Creators would like it, people who like watching these videos and content. Ideas and stuff, if people are starting for example Yoga, you would not have to switch between multiple platforms and apps to figure out stuff.\n",
      "- Do you trust content creators?\n",
      "- Yes definitely, I trust in creators more. Why would they lie that it is good but it is not. Even if creators do sponsored ads still trusts that more than brands ads. Trusts more small creators.\n",
      "- Who could this not be good for?\n",
      "- Certain interest: gaming for example. Content about everything so everyone can use it. Maybe people that do not use social media ?\n",
      "- Exited about it, I could not imagine it, when I saw it make sense, it isn’t filled with ads and just promotion of something. I didn’t know what to expect, but I would use it!\n"
     ]
    }
   ],
   "source": [
    "for section in transcripts[\"2.txt\"]:\n",
    "    print(\"\"\"######## SECTION\"\"\")\n",
    "    print(section)"
   ]
  },
  {
   "cell_type": "code",
   "execution_count": 52,
   "id": "cc4f2dca",
   "metadata": {},
   "outputs": [],
   "source": [
    "def questionAnswerPairs(string):\n",
    "    pairs = []\n",
    "    pair = (\"\", [])\n",
    "    previousIsQuestion = False\n",
    "    \n",
    "    lines = string.splitlines()\n",
    "    i = 0\n",
    "    for line in lines:\n",
    "        stripped = line.replace('-','').strip()\n",
    "        last_five_chars = stripped[-5:]\n",
    "        if '?' in last_five_chars:\n",
    "            \n",
    "            if i == 0:\n",
    "                pair = (pair[0] + \" \" + stripped, [])\n",
    "                previousIsQuestion = True\n",
    "            elif not previousIsQuestion:\n",
    "                pairs.append(pair)\n",
    "                pair = (stripped, [])\n",
    "                previousIsQuestion = True\n",
    "            else:\n",
    "                pair = (pair[0] + \" \" + stripped, [])\n",
    "        else:\n",
    "            pair[1].append(stripped)\n",
    "            previousIsQuestion = False\n",
    "        i += 1\n",
    "    pairs.append(pair)  \n",
    "    return pairs"
   ]
  },
  {
   "cell_type": "code",
   "execution_count": 53,
   "id": "a83d71a8",
   "metadata": {
    "pixiedust": {
     "displayParams": {}
    }
   },
   "outputs": [
    {
     "name": "stdout",
     "output_type": "stream",
     "text": [
      "QUESTION:  Which platforms do you use?\n",
      "ANSWER 1: Instagram (most), TikTok (most), Youtube, Snapchat, Pinterest\n",
      "QUESTION: What type of content do you consume?\n",
      "ANSWER 1: Multicultural because of my background, fashion, food/cooking, visual arts like painting and trendbased arts like rug making. I also like content creators that make content around fashion and arts.\n",
      "QUESTION: How much time do you spend across these different platforms? → Do you feel it is too much, what is overwhelming in it?\n",
      "ANSWER 1: Instagram is definitely more for work, finding garments I can source from different accounts, designers and artists that can help me in my work.\n",
      "ANSWER 2: I also follow some celebrities on Instagram\n",
      "ANSWER 3: TikTok is always more for entertainment\n",
      "ANSWER 4: NOTE! No negative emotions about screen time or using her phone too much\n"
     ]
    }
   ],
   "source": [
    "\n",
    "\n",
    "pairs = questionAnswerPairs(transcripts[\"1.txt\"][0])\n",
    "for pair in pairs:\n",
    "    print(\"QUESTION: \" + pair[0])\n",
    "    for index, ans in enumerate(pair[1]):\n",
    "        print(f\"ANSWER {index + 1}: {ans}\") "
   ]
  },
  {
   "cell_type": "code",
   "execution_count": null,
   "id": "73d482ad",
   "metadata": {
    "pixiedust": {
     "displayParams": {}
    },
    "scrolled": true
   },
   "outputs": [],
   "source": []
  },
  {
   "cell_type": "code",
   "execution_count": null,
   "id": "a2fd1001",
   "metadata": {},
   "outputs": [],
   "source": []
  },
  {
   "cell_type": "code",
   "execution_count": 41,
   "id": "589fcdcd",
   "metadata": {},
   "outputs": [
    {
     "name": "stdout",
     "output_type": "stream",
     "text": [
      "[8]\n"
     ]
    }
   ],
   "source": []
  },
  {
   "cell_type": "code",
   "execution_count": null,
   "id": "54e66432",
   "metadata": {},
   "outputs": [],
   "source": []
  }
 ],
 "metadata": {
  "kernelspec": {
   "display_name": "Python 3",
   "language": "python",
   "name": "python3"
  },
  "language_info": {
   "codemirror_mode": {
    "name": "ipython",
    "version": 3
   },
   "file_extension": ".py",
   "mimetype": "text/x-python",
   "name": "python",
   "nbconvert_exporter": "python",
   "pygments_lexer": "ipython3",
   "version": "3.9.16"
  }
 },
 "nbformat": 4,
 "nbformat_minor": 5
}
